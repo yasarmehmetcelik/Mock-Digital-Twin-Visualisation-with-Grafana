{
 "cells": [
  {
   "cell_type": "code",
   "execution_count": 1,
   "metadata": {},
   "outputs": [],
   "source": [
    "import pandas as pd"
   ]
  },
  {
   "cell_type": "code",
   "execution_count": 2,
   "metadata": {},
   "outputs": [],
   "source": [
    "df = pd.read_csv(\"data.csv\")\n",
    "df_transferred = pd.read_csv(\"transformed_data.csv\")"
   ]
  },
  {
   "cell_type": "code",
   "execution_count": 3,
   "metadata": {},
   "outputs": [],
   "source": [
    "df_transferred[\"timestamp\"] = df[\"timestamp\"]\n",
    "df_transferred.drop([\"ID\",\"x1sim\",\"y1sim\",\"x2sim\",\"y2sim\",\"x2\",\"y2\",\"nn_pred_x\",\"nn_pred_y\",\"svr_pred_x\",\"svr_pred_y\",\"reversed_x1sim\",\"reversed_y1sim\"], axis=1, inplace=True)\n",
    "df_transferred['zero'] = 0"
   ]
  },
  {
   "cell_type": "code",
   "execution_count": 5,
   "metadata": {},
   "outputs": [
    {
     "data": {
      "text/html": [
       "<div>\n",
       "<style scoped>\n",
       "    .dataframe tbody tr th:only-of-type {\n",
       "        vertical-align: middle;\n",
       "    }\n",
       "\n",
       "    .dataframe tbody tr th {\n",
       "        vertical-align: top;\n",
       "    }\n",
       "\n",
       "    .dataframe thead th {\n",
       "        text-align: right;\n",
       "    }\n",
       "</style>\n",
       "<table border=\"1\" class=\"dataframe\">\n",
       "  <thead>\n",
       "    <tr style=\"text-align: right;\">\n",
       "      <th></th>\n",
       "      <th>timestamp</th>\n",
       "      <th>x1</th>\n",
       "      <th>y1</th>\n",
       "      <th>nn_pred_xr</th>\n",
       "      <th>nn_pred_yr</th>\n",
       "      <th>svr_pred_xr</th>\n",
       "      <th>svr_pred_yr</th>\n",
       "      <th>zero</th>\n",
       "    </tr>\n",
       "  </thead>\n",
       "  <tbody>\n",
       "    <tr>\n",
       "      <th>0</th>\n",
       "      <td>1/1/2019 0:00:09</td>\n",
       "      <td>28.94806</td>\n",
       "      <td>40.26832</td>\n",
       "      <td>28.947840</td>\n",
       "      <td>40.267891</td>\n",
       "      <td>28.946720</td>\n",
       "      <td>40.267161</td>\n",
       "      <td>0</td>\n",
       "    </tr>\n",
       "    <tr>\n",
       "      <th>1</th>\n",
       "      <td>1/1/2019 0:00:19</td>\n",
       "      <td>28.93162</td>\n",
       "      <td>40.32295</td>\n",
       "      <td>28.931571</td>\n",
       "      <td>40.322443</td>\n",
       "      <td>28.927804</td>\n",
       "      <td>40.317950</td>\n",
       "      <td>0</td>\n",
       "    </tr>\n",
       "    <tr>\n",
       "      <th>2</th>\n",
       "      <td>1/1/2019 0:00:24</td>\n",
       "      <td>28.95557</td>\n",
       "      <td>40.25163</td>\n",
       "      <td>28.955433</td>\n",
       "      <td>40.251648</td>\n",
       "      <td>28.960851</td>\n",
       "      <td>40.248548</td>\n",
       "      <td>0</td>\n",
       "    </tr>\n",
       "    <tr>\n",
       "      <th>3</th>\n",
       "      <td>1/1/2019 0:00:33</td>\n",
       "      <td>28.96967</td>\n",
       "      <td>40.23330</td>\n",
       "      <td>28.969559</td>\n",
       "      <td>40.233378</td>\n",
       "      <td>28.973301</td>\n",
       "      <td>40.234143</td>\n",
       "      <td>0</td>\n",
       "    </tr>\n",
       "    <tr>\n",
       "      <th>4</th>\n",
       "      <td>1/1/2019 0:00:37</td>\n",
       "      <td>28.95055</td>\n",
       "      <td>40.24852</td>\n",
       "      <td>28.950413</td>\n",
       "      <td>40.248600</td>\n",
       "      <td>28.954689</td>\n",
       "      <td>40.247343</td>\n",
       "      <td>0</td>\n",
       "    </tr>\n",
       "  </tbody>\n",
       "</table>\n",
       "</div>"
      ],
      "text/plain": [
       "          timestamp        x1        y1  nn_pred_xr  nn_pred_yr  svr_pred_xr  \\\n",
       "0  1/1/2019 0:00:09  28.94806  40.26832   28.947840   40.267891    28.946720   \n",
       "1  1/1/2019 0:00:19  28.93162  40.32295   28.931571   40.322443    28.927804   \n",
       "2  1/1/2019 0:00:24  28.95557  40.25163   28.955433   40.251648    28.960851   \n",
       "3  1/1/2019 0:00:33  28.96967  40.23330   28.969559   40.233378    28.973301   \n",
       "4  1/1/2019 0:00:37  28.95055  40.24852   28.950413   40.248600    28.954689   \n",
       "\n",
       "   svr_pred_yr  zero  \n",
       "0    40.267161     0  \n",
       "1    40.317950     0  \n",
       "2    40.248548     0  \n",
       "3    40.234143     0  \n",
       "4    40.247343     0  "
      ]
     },
     "execution_count": 5,
     "metadata": {},
     "output_type": "execute_result"
    }
   ],
   "source": [
    "df_transferred.head()"
   ]
  },
  {
   "cell_type": "code",
   "execution_count": 6,
   "metadata": {},
   "outputs": [],
   "source": [
    "df_transferred.to_csv(\"clean_data.csv\", index=False)"
   ]
  }
 ],
 "metadata": {
  "kernelspec": {
   "display_name": "Python 3",
   "language": "python",
   "name": "python3"
  },
  "language_info": {
   "codemirror_mode": {
    "name": "ipython",
    "version": 3
   },
   "file_extension": ".py",
   "mimetype": "text/x-python",
   "name": "python",
   "nbconvert_exporter": "python",
   "pygments_lexer": "ipython3",
   "version": "3.11.4"
  }
 },
 "nbformat": 4,
 "nbformat_minor": 2
}
